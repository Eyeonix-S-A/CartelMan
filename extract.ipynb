{
 "cells": [
  {
   "cell_type": "markdown",
   "metadata": {},
   "source": [
    "# CartelMan\n",
    "Caldera Advanced Revised Tenchnique Event Log to MITRE ATT&CK Navigator"
   ]
  },
  {
   "cell_type": "code",
   "execution_count": null,
   "metadata": {},
   "outputs": [],
   "source": [
    "import json\n",
    "\n",
    "json_template = json.loads('''\n",
    "{\n",
    "\t\"name\": \"Caldera Export\",\n",
    "\t\"versions\": {\n",
    "\t\t\"attack\": \"12\",\n",
    "\t\t\"navigator\": \"4.8.0\",\n",
    "\t\t\"layer\": \"4.4\"\n",
    "\t},\n",
    "\t\"domain\": \"enterprise-attack\",\n",
    "\t\"description\": \"\",\n",
    "\t\"filters\": {\n",
    "\t\t\"platforms\": [\n",
    "\t\t\t\"Linux\",\n",
    "\t\t\t\"macOS\",\n",
    "\t\t\t\"Windows\",\n",
    "\t\t\t\"Network\",\n",
    "\t\t\t\"PRE\",\n",
    "\t\t\t\"Containers\",\n",
    "\t\t\t\"Office 365\",\n",
    "\t\t\t\"SaaS\",\n",
    "\t\t\t\"Google Workspace\",\n",
    "\t\t\t\"IaaS\",\n",
    "\t\t\t\"Azure AD\"\n",
    "\t\t]\n",
    "\t},\n",
    "\t\"sorting\": 0,\n",
    "\t\"layout\": {\n",
    "\t\t\"layout\": \"side\",\n",
    "\t\t\"aggregateFunction\": \"average\",\n",
    "\t\t\"showID\": false,\n",
    "\t\t\"showName\": true,\n",
    "\t\t\"showAggregateScores\": false,\n",
    "\t\t\"countUnscored\": false\n",
    "\t},\n",
    "\t\"hideDisabled\": false,\n",
    "\t\"techniques\": [\n",
    "\t\t{\n",
    "\t\t\t\"techniqueID\": \"T1007\",\n",
    "\t\t\t\"tactic\": \"discovery\",\n",
    "\t\t\t\"color\": \"#e60d0d\",\n",
    "\t\t\t\"comment\": \"\",\n",
    "\t\t\t\"enabled\": true,\n",
    "\t\t\t\"metadata\": [],\n",
    "\t\t\t\"links\": [],\n",
    "\t\t\t\"showSubtechniques\": false\n",
    "\t\t}\n",
    "\t],\n",
    "\t\"gradient\": {\n",
    "\t\t\"colors\": [\n",
    "\t\t\t\"#ff6666ff\",\n",
    "\t\t\t\"#ffe766ff\",\n",
    "\t\t\t\"#8ec843ff\"\n",
    "\t\t],\n",
    "\t\t\"minValue\": 0,\n",
    "\t\t\"maxValue\": 100\n",
    "\t},\n",
    "\t\"legendItems\": [],\n",
    "\t\"metadata\": [],\n",
    "\t\"links\": [],\n",
    "\t\"showTacticRowBackground\": false,\n",
    "\t\"tacticRowBackground\": \"#dddddd\",\n",
    "\t\"selectTechniquesAcrossTactics\": true,\n",
    "\t\"selectSubtechniquesWithParent\": false\n",
    "}\n",
    "''')"
   ]
  },
  {
   "cell_type": "code",
   "execution_count": null,
   "metadata": {},
   "outputs": [],
   "source": [
    "with open('operation.json', 'r') as f:\n",
    "    data = json.load(f)\n",
    "\n",
    "\n",
    "items = []\n",
    "for item in data:\n",
    "    tactic = item[\"attack_metadata\"][\"tactic\"]\n",
    "    technique_id = item[\"attack_metadata\"][\"technique_id\"]\n",
    "    items.append({\"tactic\":tactic, \"techniqueID\":technique_id})\n",
    "\n",
    "print(items)"
   ]
  },
  {
   "cell_type": "code",
   "execution_count": null,
   "metadata": {},
   "outputs": [],
   "source": [
    "from collections import Counter\n",
    "\n",
    "# Count the occurrences of each technique in the context of the tactic\n",
    "counts = Counter((d['tactic'], d['techniqueID']) for d in items)\n",
    "\n",
    "# Create a new array with the results\n",
    "result = [{'tactic': t, 'techniqueID': tid, 'count': c} for (t, tid), c in counts.items()]\n",
    "\n",
    "print(result)\n"
   ]
  },
  {
   "cell_type": "code",
   "execution_count": null,
   "metadata": {},
   "outputs": [],
   "source": [
    "import math\n",
    "\n",
    "max_count = max([r['count'] for r in result])\n",
    "def get_color(n):\n",
    "    color_range = ['#ffffff', '#fff5f5', '#ffe5e5', '#ffc4c4', '#ffa2a2', '#ff7f7f', '#ff5a5a', '#ff2d2d', '#cc0000', '#a00000', '#700000']\n",
    "    mapped_value = (n * (len(color_range)-1)) // max_count\n",
    "    return color_range[mapped_value]\n",
    "\n",
    "for r in result:\n",
    "    r['color'] = get_color(r['count'])\n",
    "    r[\"comment\"] = \"\"\n",
    "    r[\"enabled\"] = True\n",
    "    r[\"metadata\"] = []\n",
    "    r[\"links\"] = []\n",
    "    r[\"showSubtechniques\"] = False\n",
    "    del(r['count'])\n",
    "print(result)"
   ]
  },
  {
   "cell_type": "code",
   "execution_count": null,
   "metadata": {},
   "outputs": [],
   "source": [
    "json_template['techniques'] = result\n",
    "json_result = json.dumps(json_template)\n",
    "json_result"
   ]
  },
  {
   "cell_type": "code",
   "execution_count": null,
   "metadata": {},
   "outputs": [],
   "source": [
    "with open(\"output.json\", \"w\") as outfile:\n",
    "    outfile.write(json_result)"
   ]
  }
 ],
 "metadata": {
  "kernelspec": {
   "display_name": "Python 3.8.10 64-bit",
   "language": "python",
   "name": "python3"
  },
  "language_info": {
   "codemirror_mode": {
    "name": "ipython",
    "version": 3
   },
   "file_extension": ".py",
   "mimetype": "text/x-python",
   "name": "python",
   "nbconvert_exporter": "python",
   "pygments_lexer": "ipython3",
   "version": "3.8.10"
  },
  "orig_nbformat": 4,
  "vscode": {
   "interpreter": {
    "hash": "916dbcbb3f70747c44a77c7bcd40155683ae19c65e1c03b4aa3499c5328201f1"
   }
  }
 },
 "nbformat": 4,
 "nbformat_minor": 2
}
